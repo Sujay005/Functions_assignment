{
  "nbformat": 4,
  "nbformat_minor": 0,
  "metadata": {
    "colab": {
      "provenance": []
    },
    "kernelspec": {
      "name": "python3",
      "display_name": "Python 3"
    },
    "language_info": {
      "name": "python"
    }
  },
  "cells": [
    {
      "cell_type": "code",
      "execution_count": null,
      "metadata": {
        "colab": {
          "base_uri": "https://localhost:8080/"
        },
        "id": "Wv0tFzCbCpPX",
        "outputId": "dda9651b-3392-445d-8136-2157f5adc847"
      },
      "outputs": [
        {
          "output_type": "execute_result",
          "data": {
            "text/plain": [
              "12"
            ]
          },
          "metadata": {},
          "execution_count": 3
        }
      ],
      "source": [
        "#1. Write a function that takes a list of numbers as input and returns the sum of all even numbers in the list.\n",
        "def even_sum(lis):\n",
        "  sum = 0\n",
        "  for i in lis:\n",
        "    if i%2 == 0:\n",
        "      sum +=i\n",
        "  return sum\n",
        "\n",
        "lis = [1,2,3,4,5,6]\n",
        "even_sum(lis)\n"
      ]
    },
    {
      "cell_type": "code",
      "source": [
        "#2. Write a python function that accepts a string and returns the reverse of that string.\n",
        "def reversed(string):\n",
        "  return string[::-1]\n",
        "\n",
        "string = \"hello\"\n",
        "reversed(string)"
      ],
      "metadata": {
        "colab": {
          "base_uri": "https://localhost:8080/",
          "height": 36
        },
        "id": "VfSUcQ11EhWs",
        "outputId": "c775a90f-041d-4854-dc0d-cae8087fbf09"
      },
      "execution_count": null,
      "outputs": [
        {
          "output_type": "execute_result",
          "data": {
            "text/plain": [
              "'olleh'"
            ],
            "application/vnd.google.colaboratory.intrinsic+json": {
              "type": "string"
            }
          },
          "metadata": {},
          "execution_count": 4
        }
      ]
    },
    {
      "cell_type": "code",
      "source": [
        "#3. Implement a python function that takes a list of integers and return a new list containing the squares of each number.\n",
        "def squares(lis):\n",
        "  return [i**2 for i in lis]\n",
        "\n",
        "l1 = [1,2,3,4,5]\n",
        "squares(l1)"
      ],
      "metadata": {
        "colab": {
          "base_uri": "https://localhost:8080/"
        },
        "id": "QPy1eVV_Ftuu",
        "outputId": "38574643-480f-4733-d9e3-ff7ac00e1a0a"
      },
      "execution_count": null,
      "outputs": [
        {
          "output_type": "execute_result",
          "data": {
            "text/plain": [
              "[1, 4, 9, 16, 25]"
            ]
          },
          "metadata": {},
          "execution_count": 6
        }
      ]
    },
    {
      "cell_type": "code",
      "source": [
        "#4. Write a Python function that checks if a given number is prime or not from 1 to 200.\n",
        "def check_prime(n):\n",
        "  if n<2:\n",
        "    return False\n",
        "  for i in range(2, int(n**0.5)+1):\n",
        "    if n%i == 0:\n",
        "      return False\n",
        "    return True\n",
        "\n",
        "check_prime(13)"
      ],
      "metadata": {
        "colab": {
          "base_uri": "https://localhost:8080/"
        },
        "id": "Z7L6T9xcHVQ4",
        "outputId": "891e640d-795d-4433-ba92-a77c778023c2"
      },
      "execution_count": null,
      "outputs": [
        {
          "output_type": "execute_result",
          "data": {
            "text/plain": [
              "True"
            ]
          },
          "metadata": {},
          "execution_count": 7
        }
      ]
    },
    {
      "cell_type": "code",
      "source": [
        "#5. Create an iterator class in Python that generates the Fibonacci sequence up to a specified number of terms.\n",
        "class FibonacciIterator:\n",
        "    def __init__(self, n_terms):\n",
        "        self.n_terms = n_terms\n",
        "        self.count = 0\n",
        "        self.a, self.b = 0, 1\n",
        "\n",
        "    def __iter__(self):\n",
        "        return self\n",
        "\n",
        "    def __next__(self):\n",
        "        if self.count >= self.n_terms:\n",
        "            raise StopIteration\n",
        "        if self.count == 0:\n",
        "            self.count += 1\n",
        "            return 0\n",
        "        elif self.count == 1:\n",
        "            self.count += 1\n",
        "            return 1\n",
        "        else:\n",
        "            fib = self.a + self.b\n",
        "            self.a, self.b = self.b, fib\n",
        "            self.count += 1\n",
        "            return fib\n",
        "\n",
        "\n",
        "fib_iterator = FibonacciIterator(10)\n",
        "\n",
        "for num in fib_iterator:\n",
        "    print(num)\n",
        "\n"
      ],
      "metadata": {
        "id": "xHk9cPgXKJQY",
        "colab": {
          "base_uri": "https://localhost:8080/"
        },
        "outputId": "78496b5e-e2af-4556-94fa-49b24bebb176"
      },
      "execution_count": 13,
      "outputs": [
        {
          "output_type": "stream",
          "name": "stdout",
          "text": [
            "0\n",
            "1\n",
            "1\n",
            "2\n",
            "3\n",
            "5\n",
            "8\n",
            "13\n",
            "21\n",
            "34\n"
          ]
        }
      ]
    },
    {
      "cell_type": "code",
      "source": [
        "#6. Write a generator function in Python that yields the powers of 2 up to a given exponent.\n",
        "def gen_sq_upto(n):\n",
        "  for i in range(n):\n",
        "    yield i**2\n",
        "\n",
        "for num in gen_sq_upto(5):\n",
        "  print(num)"
      ],
      "metadata": {
        "colab": {
          "base_uri": "https://localhost:8080/"
        },
        "id": "GXOwHizMW-40",
        "outputId": "f5b45342-8249-437d-f408-1a8131ec12ee"
      },
      "execution_count": null,
      "outputs": [
        {
          "output_type": "stream",
          "name": "stdout",
          "text": [
            "0\n",
            "1\n",
            "4\n",
            "9\n",
            "16\n"
          ]
        }
      ]
    },
    {
      "cell_type": "code",
      "source": [
        "#7.  Implement a generator function that reads a file line by line and yields each line as a string.\n",
        "\n",
        "def read_file_line_by_line(file_path):\n",
        "    with open(file_path, 'r') as file:\n",
        "        for line in file:\n",
        "            yield line.strip()  # strip() removes leading/trailing whitespace\n"
      ],
      "metadata": {
        "id": "3EoHpgMIXzHu"
      },
      "execution_count": null,
      "outputs": []
    },
    {
      "cell_type": "code",
      "source": [
        "#8. Use a lambda function in Python to sort a list of tuples based on the second element of each tuple.\n",
        "list_of_tup = [(1,2,3),(2,1,4),(4,3,5)]\n",
        "sorted_list = sorted(list_of_tup, key = lambda x:x[1])\n",
        "sorted_list"
      ],
      "metadata": {
        "colab": {
          "base_uri": "https://localhost:8080/"
        },
        "id": "GjDEJtwC_cXT",
        "outputId": "f031d761-ac59-4e6f-a465-696ca2379f29"
      },
      "execution_count": 2,
      "outputs": [
        {
          "output_type": "execute_result",
          "data": {
            "text/plain": [
              "[(2, 1, 4), (1, 2, 3), (4, 3, 5)]"
            ]
          },
          "metadata": {},
          "execution_count": 2
        }
      ]
    },
    {
      "cell_type": "code",
      "source": [
        "#9. Write a Python program that uses `map()` to convert a list of temperatures from Celsius to Fahrenheit.\n",
        "celsius = [23,28,34,41]\n",
        "farhenheit = list(map(lambda x :(9/5)*x +32, celsius))\n",
        "farhenheit"
      ],
      "metadata": {
        "colab": {
          "base_uri": "https://localhost:8080/"
        },
        "id": "ZN7Lp3hEAwFD",
        "outputId": "5f2e2e89-6d39-476b-9897-8d344d8f614f"
      },
      "execution_count": 5,
      "outputs": [
        {
          "output_type": "execute_result",
          "data": {
            "text/plain": [
              "[73.4, 82.4, 93.2, 105.8]"
            ]
          },
          "metadata": {},
          "execution_count": 5
        }
      ]
    },
    {
      "cell_type": "code",
      "source": [
        "#10. Create a Python program that uses `filter()` to remove all the vowels from a given string.\n",
        "def remove_vowel(str):\n",
        "  vowels = 'aeiouAEIOU'\n",
        "  result =''\n",
        "  filtered_char = filter(lambda x: x not in vowels, str)\n",
        "\n",
        "  for ch in filtered_char :\n",
        "    result += ch\n",
        "\n",
        "  return result\n",
        "\n",
        "remove_vowel('Hello world')\n"
      ],
      "metadata": {
        "colab": {
          "base_uri": "https://localhost:8080/",
          "height": 36
        },
        "id": "zA7R1mrFD3sW",
        "outputId": "8df9702b-e6dc-4193-89af-a03467a9c49b"
      },
      "execution_count": 9,
      "outputs": [
        {
          "output_type": "execute_result",
          "data": {
            "text/plain": [
              "'Hll wrld'"
            ],
            "application/vnd.google.colaboratory.intrinsic+json": {
              "type": "string"
            }
          },
          "metadata": {},
          "execution_count": 9
        }
      ]
    },
    {
      "cell_type": "code",
      "source": [
        "#11.  Imagine an accounting routine used in a book shop. It works on a list with sublists, which look like this:\n",
        "\n",
        "     #   Order Number       Bookt Title and Author           Quantity       price per item\n",
        "     #    34587           Learning Python, Mark Lutz            4            40.95\n",
        "     #    98762           Programming Python, Mark Lutz         5            56.80\n",
        "     #    77226          Einführung in Python3, Bernd Klein     3            32.95\n",
        "     #    88112          Einführung in Python3, Bernd Klein     3            24.99\n",
        "\n",
        "'''Write a Python program, which returns a list with 2-tuples. Each tuple consists of the order number and the\n",
        "product of the price per item and the quantity. The product should be increased by 10,- € if the value of the\n",
        "order is smaller than 100,00 €.\n",
        "\n",
        "Write a Python program using lambda and map'''\n",
        "\n",
        "orders =[\n",
        "    [34587, 'Learning Python, Mark Lutz', 4, 40.95],\n",
        "    [98762, 'Programming Python, Mark Lutz', 5, 56.80],\n",
        "    [77226, 'Head First Python, Paul Barry', 3, 32.95],\n",
        "    [88112, 'Einführung in Python3, Bernd Klein', 3, 24.99]\n",
        "]\n",
        "\n",
        "tup_list = list(map(lambda x:(x[0], x[2]*x[3] if x[2]*x[3]>=100 else x[2]*x[3] +10), orders))\n",
        "tup_list"
      ],
      "metadata": {
        "colab": {
          "base_uri": "https://localhost:8080/"
        },
        "id": "A2bpP0n3FsPz",
        "outputId": "2c1fcef0-ddaa-4ce7-d748-e604ebccd72c"
      },
      "execution_count": 12,
      "outputs": [
        {
          "output_type": "execute_result",
          "data": {
            "text/plain": [
              "[(34587, 163.8), (98762, 284.0), (77226, 108.85000000000001), (88112, 84.97)]"
            ]
          },
          "metadata": {},
          "execution_count": 12
        }
      ]
    },
    {
      "cell_type": "code",
      "source": [],
      "metadata": {
        "id": "Wy9x-eJKOV7k"
      },
      "execution_count": null,
      "outputs": []
    }
  ]
}